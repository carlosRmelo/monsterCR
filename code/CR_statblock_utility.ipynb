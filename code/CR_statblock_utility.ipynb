{
 "cells": [
  {
   "cell_type": "code",
   "execution_count": 1,
   "metadata": {},
   "outputs": [],
   "source": [
    "import numpy as np \n",
    "import matplotlib.pyplot as plt \n",
    "import pandas as pd \n",
    "import re\n",
    "from fractions import Fraction\n",
    "import seaborn as sns"
   ]
  },
  {
   "cell_type": "code",
   "execution_count": 2,
   "metadata": {},
   "outputs": [],
   "source": [
    "def split_damage_rolls(damage_string):\n",
    "    '''\n",
    "    Given a damage_string, determine if more than one are present and if so, split them. \n",
    "    e.g., input --> 1d4 returns 1d4, but input --> 1d4+2d6 returns ['1d4',2d6']. \n",
    "    Function also catches modifiers, e.g., input--> 6d12+5+1d6-2 returns ['6d12+5','1d6-2']\n",
    "    '''\n",
    "    d_locs = [m.start() for m in re.finditer('d', damage_string)]\n",
    "    d2 = d_locs[-1]\n",
    "    plus_locs= [m.start() for m in re.finditer('\\+', damage_string)]\n",
    "    diffs = d2 - np.array(plus_locs)\n",
    "    corr_ind = d2 - np.min([n for n in diffs  if n>0])\n",
    "    return [damage_string[:corr_ind],damage_string[corr_ind+1:]]\n",
    "    \n",
    "def calc_max_damage(damage_string):\n",
    "    '''\n",
    "    Given a string in the d&d format 1d8+5 (etc.) or supplemental format 1d8+4+1d6+2,\n",
    "    return the maximum damage for that roll.\n",
    "    '''\n",
    "    if damage_string == 'nan' or damage_string=='VARIES':\n",
    "        return 0.0\n",
    "    else:\n",
    "        mult = damage_string.replace('d','*')\n",
    "        max_dmg = eval(mult)\n",
    "        return max_dmg\n",
    "    \n",
    "    \n",
    "def calc_avg_damage(damage_string,combine=True):\n",
    "    '''\n",
    "    Given a string in the d&d format 1d8+5 (etc.) or supplemental format 1d8+4+1d6+2,\n",
    "    return the average damage for that roll.\n",
    "    '''\n",
    "    if damage_string == 'nan' or damage_string=='VARIES' or damage_string == 'NaN':\n",
    "        return 0.0\n",
    "    else:\n",
    "        num_roll = damage_string.count('d')\n",
    "        if num_roll > 1:\n",
    "            rolls = split_damage_rolls(damage_string)\n",
    "        else:\n",
    "            rolls = [damage_string]\n",
    "\n",
    "        avg_damages = []\n",
    "        for dmg_str in rolls:\n",
    "            pos_d = dmg_str.find('d')\n",
    "            if pos_d == -1:\n",
    "                return 0.0\n",
    "            num_dice = int(dmg_str[:pos_d])\n",
    "            mult = dmg_str.replace('d','*0.5*')\n",
    "            avg_dmg = eval(mult) \n",
    "            avg_damages.append(avg_dmg + 0.5*num_dice)\n",
    "\n",
    "        if combine:\n",
    "            return np.sum(avg_damages)\n",
    "        elif combine==False:\n",
    "            return avg_damages"
   ]
  },
  {
   "cell_type": "code",
   "execution_count": 3,
   "metadata": {},
   "outputs": [],
   "source": [
    "def statblock_to_structure(df_crc1):\n",
    "    '''\n",
    "    Turn full statblock into structure matrix precursor.\n",
    "    Takes in statblock dataframe\n",
    "    This function drops name and CR, renormalizes columns, and generates column combinations. \n",
    "    Returns structure matrix dataframe\n",
    "    '''\n",
    "    df_crc1=df_crc1.drop(['Name','CR'],axis=1)\n",
    "    for c in df_crc1.columns:\n",
    "        df_crc1[c] = df_crc1[c]/df_crc1[c].mean()\n",
    "    df_crc = df_crc1.copy()\n",
    "    \n",
    "    print(df_crc1.columns)\n",
    "    for ci in df_crc1.columns:\n",
    "        for cj in df_crc1.columns:\n",
    "            if not str(ci+'*'+cj) in df_crc.columns:\n",
    "                df_crc[str(ci+'*'+cj)]=df_crc1[ci]*df_crc1[cj]\n",
    "            \n",
    "    return df_crc"
   ]
  },
  {
   "cell_type": "code",
   "execution_count": 4,
   "metadata": {},
   "outputs": [],
   "source": [
    "df = pd.read_csv('../csv/monster_stats_with_attack_rolls.csv',header=0,na_values='NaN')\n",
    "df2 = pd.read_csv('../csv/monster_stats.csv',header=0,na_values='NaN')\n",
    "\n",
    "def load_statblocks(df,df2):\n",
    "    df = df.drop(['alignment','Book','Desert','Forest','Grassland','Hill','Mountain','Swamp','Underdark','Underwater','Urban','Arctic','Coast','CR_decimal','page'],axis=1)\n",
    "    df = df.drop(df.index[555:])\n",
    "    df['attack_1_dmg'] = df['attack_1_dmg'].astype(str)\n",
    "    df['attack_2_dmg'] = df['attack_2_dmg'].astype(str)\n",
    "    df['CR'] = [float(Fraction(s)) for s in df.CR]\n",
    "    df['attack_1_max_dmg'] = [calc_max_damage(i) for i in df['attack_1_dmg'].values]\n",
    "    df['attack_2_max_dmg'] = [calc_max_damage(i) for i in df['attack_2_dmg'].values]\n",
    "    df['attack_1_avg_dmg'] = [calc_avg_damage(i) for i in df['attack_1_dmg'].values]\n",
    "    df['attack_2_avg_dmg'] = [calc_avg_damage(i) for i in df['attack_2_dmg'].values]\n",
    "    df['max_attack_dmg'] = df.attack_1_max_dmg + df.attack_2_max_dmg\n",
    "    df['avg_attack_dmg'] = df.attack_1_avg_dmg + df.attack_2_avg_dmg\n",
    "    df['spellcasting'] = np.nan\n",
    "    df.loc[df['spellcasting_ability']=='YES','spellcasting'] = 1.0\n",
    "    df.loc[df['spellcasting_ability']=='NO','spellcasting'] = 0.0\n",
    "    df = df.drop(['spellcasting_ability'],axis=1)\n",
    "    #df = df.set_index('name')\n",
    "    \n",
    "    dft=df2.merge(df,on='Name',how='inner')\n",
    "\n",
    "    dfu = pd.DataFrame(dft.Name)\n",
    "    dfu['CR']=dft.CR_x.astype('float')\n",
    "    dfu['HP']=dft.HP_x.astype('float')\n",
    "    dfu['AC']=dft.AC_x.astype('float')\n",
    "    dfu['STR']=dft.STR.astype('float')\n",
    "    dfu['DEX']=dft.DEX.astype('float')\n",
    "    dfu['CON']=dft.CON.astype('float')\n",
    "    dfu['INT']=dft.INT.astype('float')\n",
    "    dfu['WIS']=dft.WIS.astype('float')\n",
    "    dfu['CHA']=dft.CHA.astype('float')\n",
    "    dfu['avg_attack_1']=dft.attack_1_avg_dmg\n",
    "    dfu['avg_attack_2']=dft.attack_2_avg_dmg\n",
    "    dfu['max_attack_1']=dft.attack_1_max_dmg\n",
    "    dfu['max_attack_2']=dft.attack_2_max_dmg\n",
    "    dfu['spellcasting']=dft.spellcasting\n",
    "    nsize = dft.Size\n",
    "    nsize[nsize=='Tiny']=0\n",
    "    nsize[nsize=='tiny']=0\n",
    "    nsize[nsize=='Small']=1\n",
    "    nsize[nsize=='small']=1\n",
    "    nsize[nsize=='Medium']=2\n",
    "    nsize[nsize=='medium']=2\n",
    "    nsize[nsize=='Large']=3\n",
    "    nsize[nsize=='large']=3\n",
    "    nsize[nsize=='Huge']=4\n",
    "    nsize[nsize=='huge']=4\n",
    "    nsize[nsize=='Gargantuan']=5\n",
    "    nsize[nsize=='gargantuan']=5\n",
    "    dfu['Size']=nsize\n",
    "\n",
    "    \n",
    "    return dfu\n",
    "    "
   ]
  },
  {
   "cell_type": "code",
   "execution_count": null,
   "metadata": {},
   "outputs": [],
   "source": [
    "dfu_test = load_statblocks(df,df2)"
   ]
  },
  {
   "cell_type": "code",
   "execution_count": null,
   "metadata": {},
   "outputs": [],
   "source": [
    "statblock_to_structure(dfu_test)"
   ]
  },
  {
   "cell_type": "code",
   "execution_count": null,
   "metadata": {},
   "outputs": [],
   "source": []
  },
  {
   "cell_type": "code",
   "execution_count": null,
   "metadata": {},
   "outputs": [],
   "source": []
  },
  {
   "cell_type": "code",
   "execution_count": null,
   "metadata": {},
   "outputs": [],
   "source": []
  },
  {
   "cell_type": "code",
   "execution_count": null,
   "metadata": {},
   "outputs": [],
   "source": []
  },
  {
   "cell_type": "code",
   "execution_count": null,
   "metadata": {},
   "outputs": [],
   "source": []
  },
  {
   "cell_type": "code",
   "execution_count": null,
   "metadata": {},
   "outputs": [],
   "source": []
  },
  {
   "cell_type": "code",
   "execution_count": null,
   "metadata": {},
   "outputs": [],
   "source": []
  },
  {
   "cell_type": "code",
   "execution_count": null,
   "metadata": {},
   "outputs": [],
   "source": []
  },
  {
   "cell_type": "code",
   "execution_count": null,
   "metadata": {},
   "outputs": [],
   "source": []
  },
  {
   "cell_type": "code",
   "execution_count": null,
   "metadata": {},
   "outputs": [],
   "source": []
  },
  {
   "cell_type": "code",
   "execution_count": null,
   "metadata": {},
   "outputs": [],
   "source": []
  },
  {
   "cell_type": "code",
   "execution_count": null,
   "metadata": {},
   "outputs": [],
   "source": []
  },
  {
   "cell_type": "code",
   "execution_count": null,
   "metadata": {},
   "outputs": [],
   "source": []
  }
 ],
 "metadata": {
  "kernelspec": {
   "display_name": "Python 3",
   "language": "python",
   "name": "python3"
  },
  "language_info": {
   "codemirror_mode": {
    "name": "ipython",
    "version": 3
   },
   "file_extension": ".py",
   "mimetype": "text/x-python",
   "name": "python",
   "nbconvert_exporter": "python",
   "pygments_lexer": "ipython3",
   "version": "3.7.4"
  }
 },
 "nbformat": 4,
 "nbformat_minor": 2
}
